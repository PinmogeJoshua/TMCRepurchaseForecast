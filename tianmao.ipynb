{
 "cells": [
  {
   "cell_type": "markdown",
   "metadata": {},
   "source": [
    "# Step1: 加载和预处理数据"
   ]
  },
  {
   "cell_type": "code",
   "execution_count": 3,
   "metadata": {},
   "outputs": [],
   "source": [
    "import pandas as pd\n",
    "import numpy as np\n",
    "from sklearn.model_selection import train_test_split\n",
    "from sklearn.metrics import roc_auc_score\n",
    "import xgboost as xgb\n",
    "\n",
    "# 加载数据\n",
    "user_log = pd.read_csv('user_log_format1.csv')\n",
    "user_info = pd.read_csv('user_info_format1.csv')\n",
    "train = pd.read_csv('train_format1.csv')\n",
    "test = pd.read_csv('test_format1.csv')"
   ]
  },
  {
   "cell_type": "code",
   "execution_count": 4,
   "metadata": {},
   "outputs": [],
   "source": [
    "# 分离特征和标签\n",
    "X = train.drop(columns=['user_id', 'merchant_id', 'label'])  # 去除不必要列\n",
    "y = train['label']"
   ]
  },
  {
   "cell_type": "markdown",
   "metadata": {},
   "source": [
    "# Step 2: 特征工程"
   ]
  },
  {
   "cell_type": "markdown",
   "metadata": {},
   "source": [
    "## 1. 提取用户-商家交互特征\n",
    "这里提取用户点击、加购、购买和收藏操作的次数，并计算每位用户对每个商家的交互频次。"
   ]
  },
  {
   "cell_type": "code",
   "execution_count": 5,
   "metadata": {},
   "outputs": [],
   "source": [
    "# 提取用户-商家交互特征\n",
    "user_merchant_interactions = user_log.groupby(['user_id', 'seller_id']).agg(\n",
    "    clicks=('action_type', lambda x: (x == 0).sum()),\n",
    "    add_to_cart=('action_type', lambda x: (x == 1).sum()),\n",
    "    purchases=('action_type', lambda x: (x == 2).sum()),\n",
    "    favorites=('action_type', lambda x: (x == 3).sum()),\n",
    "    total_interactions=('action_type', 'count'),\n",
    "    days_active=('time_stamp', 'nunique')\n",
    ").reset_index()"
   ]
  },
  {
   "cell_type": "markdown",
   "metadata": {},
   "source": [
    "## 2. 统计用户购买行为特征\n",
    "通过聚合计算用户在所有商家上的交互总数，包括不同操作的次数和唯一商家数。"
   ]
  },
  {
   "cell_type": "code",
   "execution_count": 6,
   "metadata": {},
   "outputs": [],
   "source": [
    "# 统计用户购买行为特征\n",
    "user_stats = user_log.groupby('user_id').agg(\n",
    "    total_purchases=('action_type', lambda x: (x == 2).sum()),\n",
    "    total_clicks=('action_type', lambda x: (x == 0).sum()),\n",
    "    total_add_to_cart=('action_type', lambda x: (x == 1).sum()),\n",
    "    total_favorites=('action_type', lambda x: (x == 3).sum()),\n",
    "    unique_merchants=('seller_id', 'nunique'),\n",
    "    total_interactions=('action_type', 'count'),\n",
    "    days_active=('time_stamp', 'nunique')\n",
    ").reset_index()"
   ]
  },
  {
   "cell_type": "markdown",
   "metadata": {},
   "source": [
    "## 3. 统计商家特征"
   ]
  },
  {
   "cell_type": "code",
   "execution_count": 7,
   "metadata": {},
   "outputs": [],
   "source": [
    "# 提取商家特征\n",
    "merchant_stats = user_log.groupby('seller_id').agg(\n",
    "    merchant_total_purchases=('action_type', lambda x: (x == 2).sum()),\n",
    "    merchant_total_clicks=('action_type', lambda x: (x == 0).sum()),\n",
    "    merchant_total_add_to_cart=('action_type', lambda x: (x == 1).sum()),\n",
    "    merchant_total_favorites=('action_type', lambda x: (x == 3).sum()),\n",
    "    merchant_unique_users=('user_id', 'nunique'),\n",
    "    merchant_total_interactions=('action_type', 'count'),\n",
    "    merchant_days_active=('time_stamp', 'nunique')\n",
    ").reset_index()"
   ]
  },
  {
   "cell_type": "markdown",
   "metadata": {},
   "source": [
    "## 4. 计算用户和商家各自的点击转化率等"
   ]
  },
  {
   "cell_type": "code",
   "execution_count": 8,
   "metadata": {},
   "outputs": [],
   "source": [
    "# 计算用户的点击转化率、加购转化率等\n",
    "user_stats['click_purchase_ratio'] = user_stats['total_clicks'] / (user_stats['total_purchases'] + 1)\n",
    "user_stats['add_to_cart_purchase_ratio'] = user_stats['total_add_to_cart'] / (user_stats['total_purchases'] + 1)\n",
    "user_stats['click_favorite_ratio'] = user_stats['total_clicks'] / (user_stats['total_favorites'] + 1)\n",
    "user_stats['interaction_per_merchant'] = user_stats['total_interactions'] / (user_stats['unique_merchants'] + 1)\n",
    "user_stats['interaction_per_day'] = user_stats['total_interactions'] / (user_stats['days_active'] + 1)"
   ]
  },
  {
   "cell_type": "code",
   "execution_count": 9,
   "metadata": {},
   "outputs": [],
   "source": [
    "# 计算商家的点击转化率、加购转化率等\n",
    "merchant_stats['merchant_click_purchase_ratio'] = merchant_stats['merchant_total_clicks'] / (merchant_stats['merchant_total_purchases'] + 1)\n",
    "merchant_stats['merchant_add_to_cart_purchase_ratio'] = merchant_stats['merchant_total_add_to_cart'] / (merchant_stats['merchant_total_purchases'] + 1)\n",
    "merchant_stats['merchant_click_favorite_ratio'] = merchant_stats['merchant_total_clicks'] / (merchant_stats['merchant_total_favorites'] + 1)\n",
    "merchant_stats['merchant_interaction_per_user'] = merchant_stats['merchant_total_interactions'] / (merchant_stats['merchant_unique_users'] + 1)\n",
    "merchant_stats['merchant_interaction_per_day'] = merchant_stats['merchant_total_interactions'] / (merchant_stats['merchant_days_active'] + 1)"
   ]
  },
  {
   "cell_type": "markdown",
   "metadata": {},
   "source": [
    "## 3. 合并数据\n",
    "将用户信息、用户商家交互特征和用户的整体统计信息合并到训练集和测试集中。"
   ]
  },
  {
   "cell_type": "code",
   "execution_count": 10,
   "metadata": {},
   "outputs": [
    {
     "name": "stdout",
     "output_type": "stream",
     "text": [
      "Index(['user_id', 'seller_id', 'clicks', 'add_to_cart', 'purchases',\n",
      "       'favorites', 'total_interactions', 'days_active'],\n",
      "      dtype='object')\n",
      "Index(['user_id', 'merchant_id', 'prob'], dtype='object')\n",
      "Index(['user_id', 'merchant_id', 'label'], dtype='object')\n"
     ]
    }
   ],
   "source": [
    "print(user_merchant_interactions.columns)\n",
    "print(test.columns)\n",
    "print(train.columns)"
   ]
  },
  {
   "cell_type": "code",
   "execution_count": 11,
   "metadata": {},
   "outputs": [],
   "source": [
    "# 重命名列以匹配 train 和 test 数据框中的列名\n",
    "user_merchant_interactions.rename(columns={'seller_id': 'merchant_id'}, inplace=True)\n",
    "\n",
    "# 确保 train 和 test 数据框中有 merchant_id 列\n",
    "if 'merchant_id' not in train.columns:\n",
    "    train['merchant_id'] = train['merchant_id']\n",
    "\n",
    "if 'merchant_id' not in test.columns:\n",
    "    test['merchant_id'] = test['merchant_id']\n",
    "\n",
    "# 合并用户画像数据\n",
    "train_data = train.merge(user_info, on='user_id', how='left')\n",
    "test_data = test.merge(user_info, on='user_id', how='left')\n",
    "\n",
    "# 合并用户-商家交互特征\n",
    "train_data = train_data.merge(user_merchant_interactions, on=['user_id', 'merchant_id'], how='left').fillna(0)\n",
    "test_data = test_data.merge(user_merchant_interactions, on=['user_id', 'merchant_id'], how='left').fillna(0)\n",
    "\n",
    "# 合并用户统计特征\n",
    "train_data = train_data.merge(user_stats, on='user_id', how='left').fillna(0)\n",
    "test_data = test_data.merge(user_stats, on='user_id', how='left').fillna(0)"
   ]
  },
  {
   "cell_type": "markdown",
   "metadata": {},
   "source": [
    "## 4. 特征编码与处理\n",
    "将 gender 和 age_range 等特征转化为数值型。"
   ]
  },
  {
   "cell_type": "code",
   "execution_count": 12,
   "metadata": {},
   "outputs": [],
   "source": [
    "# 将性别和年龄范围处理为数值\n",
    "train_data['gender'] = train_data['gender'].fillna(2).astype(int)\n",
    "train_data['age_range'] = train_data['age_range'].fillna(-1).astype(int)\n",
    "test_data['gender'] = test_data['gender'].fillna(2).astype(int)\n",
    "test_data['age_range'] = test_data['age_range'].fillna(-1).astype(int)"
   ]
  },
  {
   "cell_type": "markdown",
   "metadata": {},
   "source": [
    "# Step 3: 模型训练"
   ]
  },
  {
   "cell_type": "markdown",
   "metadata": {},
   "source": [
    "## 1. 划分训练和验证集\n",
    "将训练集划分为训练集和验证集，以便进行模型评估。"
   ]
  },
  {
   "cell_type": "code",
   "execution_count": 13,
   "metadata": {},
   "outputs": [],
   "source": [
    "# 分离特征和标签\n",
    "X = train_data.drop(columns=['user_id', 'merchant_id', 'label'])  # 去除不必要列\n",
    "y = train_data['label']"
   ]
  },
  {
   "cell_type": "code",
   "execution_count": 14,
   "metadata": {},
   "outputs": [],
   "source": [
    "# 拆分训练集和验证集\n",
    "X_train, X_val, y_train, y_val = train_test_split(X, y, test_size=0.2, random_state=42)"
   ]
  },
  {
   "cell_type": "markdown",
   "metadata": {},
   "source": [
    "## 2. 设置XGBoost参数并训练模型\n",
    "在此步骤中，通过调整超参数来增强模型的拟合能力。"
   ]
  },
  {
   "cell_type": "code",
   "execution_count": 15,
   "metadata": {},
   "outputs": [
    {
     "name": "stdout",
     "output_type": "stream",
     "text": [
      "[0]\ttrain-auc:0.63298\teval-auc:0.60344\n",
      "[10]\ttrain-auc:0.65980\teval-auc:0.62474\n",
      "[20]\ttrain-auc:0.66478\teval-auc:0.62731\n",
      "[30]\ttrain-auc:0.66812\teval-auc:0.62932\n",
      "[40]\ttrain-auc:0.67136\teval-auc:0.62987\n",
      "[50]\ttrain-auc:0.67468\teval-auc:0.63032\n",
      "[60]\ttrain-auc:0.67601\teval-auc:0.63006\n",
      "[70]\ttrain-auc:0.67878\teval-auc:0.63037\n",
      "[80]\ttrain-auc:0.68046\teval-auc:0.63078\n",
      "[90]\ttrain-auc:0.68210\teval-auc:0.63073\n",
      "[100]\ttrain-auc:0.68359\teval-auc:0.63069\n",
      "[110]\ttrain-auc:0.68566\teval-auc:0.63056\n",
      "[120]\ttrain-auc:0.68714\teval-auc:0.63075\n",
      "[130]\ttrain-auc:0.68895\teval-auc:0.63086\n",
      "[133]\ttrain-auc:0.68965\teval-auc:0.63084\n"
     ]
    }
   ],
   "source": [
    "# 设置XGBoost参数\n",
    "params = {\n",
    "    'objective': 'binary:logistic',\n",
    "    'max_depth': 8,\n",
    "    'learning_rate': 0.01,    # 降低学习率\n",
    "    'scale_pos_weight': 2,\n",
    "    'subsample': 0.8,\n",
    "    'colsample_bytree': 0.8,\n",
    "    'lambda': 1,              # L2 正则化\n",
    "    'alpha': 0.5,             # L1 正则化\n",
    "    'eval_metric': 'auc',\n",
    "    'random_state': 42\n",
    "}\n",
    "\n",
    "# 转换数据格式为XGBoost的DMatrix\n",
    "dtrain = xgb.DMatrix(X_train, label=y_train)\n",
    "dval = xgb.DMatrix(X_val, label=y_val)\n",
    "\n",
    "# 训练模型\n",
    "watchlist = [(dtrain, 'train'), (dval, 'eval')]\n",
    "model = xgb.train(params, dtrain, num_boost_round=2000, early_stopping_rounds=50, evals=watchlist, verbose_eval=10)"
   ]
  },
  {
   "cell_type": "markdown",
   "metadata": {},
   "source": [
    "# Step 4: 模型评估\n",
    "验证模型性能，并通过AUC指标评估预测效果。"
   ]
  },
  {
   "cell_type": "markdown",
   "metadata": {},
   "source": [
    "## 1. 评估验证集AUC"
   ]
  },
  {
   "cell_type": "code",
   "execution_count": 16,
   "metadata": {},
   "outputs": [
    {
     "name": "stdout",
     "output_type": "stream",
     "text": [
      "验证集AUC得分: 0.6307183087653301\n"
     ]
    }
   ],
   "source": [
    "# 评估验证集AUC得分\n",
    "val_pred = model.predict(dval)\n",
    "auc_score = roc_auc_score(y_val, val_pred)\n",
    "print(f'验证集AUC得分: {auc_score}')"
   ]
  },
  {
   "cell_type": "markdown",
   "metadata": {},
   "source": [
    "## 2. 查看特征重要性\n",
    "使用 XGBoost 提供的特征重要性分析工具，查看哪些特征对模型贡献最大。"
   ]
  },
  {
   "cell_type": "code",
   "execution_count": 17,
   "metadata": {},
   "outputs": [
    {
     "data": {
      "image/png": "[encoded data removed]",
      "text/plain": [
       "<Figure size 640x480 with 1 Axes>"
      ]
     },
     "metadata": {},
     "output_type": "display_data"
    }
   ],
   "source": [
    "import matplotlib.pyplot as plt\n",
    "\n",
    "xgb.plot_importance(model, max_num_features=20)\n",
    "plt.show()"
   ]
  },
  {
   "cell_type": "markdown",
   "metadata": {},
   "source": [
    "# Step 5: 调整超参数"
   ]
  },
  {
   "cell_type": "code",
   "execution_count": 18,
   "metadata": {},
   "outputs": [
    {
     "name": "stdout",
     "output_type": "stream",
     "text": [
      "[0]\ttrain-auc:0.61827\teval-auc:0.61539\n",
      "[1]\ttrain-auc:0.62731\teval-auc:0.62053\n",
      "[2]\ttrain-auc:0.62781\teval-auc:0.62162\n",
      "[3]\ttrain-auc:0.62971\teval-auc:0.62259\n",
      "[4]\ttrain-auc:0.63196\teval-auc:0.62432\n",
      "[5]\ttrain-auc:0.63403\teval-auc:0.62593\n",
      "[6]\ttrain-auc:0.63482\teval-auc:0.62626\n",
      "[7]\ttrain-auc:0.63634\teval-auc:0.62695\n",
      "[8]\ttrain-auc:0.63777\teval-auc:0.62776\n",
      "[9]\ttrain-auc:0.63910\teval-auc:0.62720\n",
      "[10]\ttrain-auc:0.63950\teval-auc:0.62746\n",
      "[11]\ttrain-auc:0.64045\teval-auc:0.62781\n",
      "[12]\ttrain-auc:0.64161\teval-auc:0.62811\n",
      "[13]\ttrain-auc:0.64236\teval-auc:0.62901\n",
      "[14]\ttrain-auc:0.64283\teval-auc:0.62927\n",
      "[15]\ttrain-auc:0.64308\teval-auc:0.62875\n",
      "[16]\ttrain-auc:0.64483\teval-auc:0.62932\n",
      "[17]\ttrain-auc:0.64567\teval-auc:0.62936\n",
      "[18]\ttrain-auc:0.64689\teval-auc:0.62919\n",
      "[19]\ttrain-auc:0.64809\teval-auc:0.62975\n",
      "[20]\ttrain-auc:0.64913\teval-auc:0.62986\n",
      "[21]\ttrain-auc:0.64973\teval-auc:0.62998\n",
      "[22]\ttrain-auc:0.65082\teval-auc:0.63078\n",
      "[23]\ttrain-auc:0.65239\teval-auc:0.63088\n",
      "[24]\ttrain-auc:0.65340\teval-auc:0.63116\n",
      "[25]\ttrain-auc:0.65436\teval-auc:0.63070\n",
      "[26]\ttrain-auc:0.65551\teval-auc:0.63036\n",
      "[27]\ttrain-auc:0.65654\teval-auc:0.63044\n",
      "[28]\ttrain-auc:0.65763\teval-auc:0.63063\n",
      "[29]\ttrain-auc:0.65838\teval-auc:0.63062\n",
      "[30]\ttrain-auc:0.65973\teval-auc:0.63086\n",
      "[31]\ttrain-auc:0.66097\teval-auc:0.63099\n",
      "[32]\ttrain-auc:0.66237\teval-auc:0.63097\n",
      "[33]\ttrain-auc:0.66306\teval-auc:0.63122\n",
      "[34]\ttrain-auc:0.66438\teval-auc:0.63120\n",
      "[35]\ttrain-auc:0.66523\teval-auc:0.63135\n",
      "[36]\ttrain-auc:0.66652\teval-auc:0.63132\n",
      "[37]\ttrain-auc:0.66716\teval-auc:0.63142\n",
      "[38]\ttrain-auc:0.66802\teval-auc:0.63156\n",
      "[39]\ttrain-auc:0.66839\teval-auc:0.63159\n",
      "[40]\ttrain-auc:0.66941\teval-auc:0.63156\n",
      "[41]\ttrain-auc:0.67043\teval-auc:0.63148\n",
      "[42]\ttrain-auc:0.67116\teval-auc:0.63142\n",
      "[43]\ttrain-auc:0.67226\teval-auc:0.63111\n",
      "[44]\ttrain-auc:0.67323\teval-auc:0.63149\n",
      "[45]\ttrain-auc:0.67469\teval-auc:0.63126\n",
      "[46]\ttrain-auc:0.67498\teval-auc:0.63132\n",
      "[47]\ttrain-auc:0.67547\teval-auc:0.63112\n",
      "[48]\ttrain-auc:0.67585\teval-auc:0.63111\n",
      "[49]\ttrain-auc:0.67637\teval-auc:0.63102\n",
      "[50]\ttrain-auc:0.67711\teval-auc:0.63067\n",
      "[51]\ttrain-auc:0.67795\teval-auc:0.63091\n",
      "[52]\ttrain-auc:0.67917\teval-auc:0.63113\n",
      "[53]\ttrain-auc:0.67965\teval-auc:0.63083\n",
      "[54]\ttrain-auc:0.68065\teval-auc:0.63069\n",
      "[55]\ttrain-auc:0.68118\teval-auc:0.63093\n",
      "[56]\ttrain-auc:0.68167\teval-auc:0.63092\n",
      "[57]\ttrain-auc:0.68248\teval-auc:0.63087\n",
      "[58]\ttrain-auc:0.68319\teval-auc:0.63095\n",
      "[59]\ttrain-auc:0.68362\teval-auc:0.63121\n",
      "[60]\ttrain-auc:0.68429\teval-auc:0.63091\n",
      "[61]\ttrain-auc:0.68524\teval-auc:0.63077\n",
      "[62]\ttrain-auc:0.68612\teval-auc:0.63053\n",
      "[63]\ttrain-auc:0.68665\teval-auc:0.63035\n",
      "[64]\ttrain-auc:0.68706\teval-auc:0.63024\n",
      "[65]\ttrain-auc:0.68776\teval-auc:0.63020\n",
      "[66]\ttrain-auc:0.68833\teval-auc:0.63012\n",
      "[67]\ttrain-auc:0.68892\teval-auc:0.63019\n",
      "[68]\ttrain-auc:0.68992\teval-auc:0.62997\n",
      "[69]\ttrain-auc:0.69054\teval-auc:0.62991\n",
      "[70]\ttrain-auc:0.69095\teval-auc:0.63000\n",
      "[71]\ttrain-auc:0.69191\teval-auc:0.63005\n",
      "[72]\ttrain-auc:0.69232\teval-auc:0.63025\n",
      "[73]\ttrain-auc:0.69296\teval-auc:0.63046\n",
      "[74]\ttrain-auc:0.69347\teval-auc:0.63029\n",
      "[75]\ttrain-auc:0.69361\teval-auc:0.63014\n",
      "[76]\ttrain-auc:0.69410\teval-auc:0.63026\n",
      "[77]\ttrain-auc:0.69436\teval-auc:0.63035\n",
      "[78]\ttrain-auc:0.69488\teval-auc:0.63049\n",
      "[79]\ttrain-auc:0.69510\teval-auc:0.63050\n",
      "[80]\ttrain-auc:0.69550\teval-auc:0.63056\n",
      "[81]\ttrain-auc:0.69623\teval-auc:0.63048\n",
      "[82]\ttrain-auc:0.69678\teval-auc:0.63050\n",
      "[83]\ttrain-auc:0.69737\teval-auc:0.63031\n",
      "[84]\ttrain-auc:0.69783\teval-auc:0.63052\n",
      "[85]\ttrain-auc:0.69825\teval-auc:0.63033\n",
      "[86]\ttrain-auc:0.69873\teval-auc:0.63025\n",
      "[87]\ttrain-auc:0.69919\teval-auc:0.63014\n",
      "[88]\ttrain-auc:0.69997\teval-auc:0.63006\n",
      "验证集AUC得分: 0.6301488425089541\n"
     ]
    }
   ],
   "source": [
    "import xgboost as xgb\n",
    "from sklearn.model_selection import GridSearchCV\n",
    "from sklearn.metrics import roc_auc_score\n",
    "from sklearn.datasets import load_svmlight_file\n",
    "\n",
    "# 拆分训练集和验证集\n",
    "X_train, X_val, y_train, y_val = train_test_split(X, y, test_size=0.2, random_state=42)\n",
    "\n",
    "# 定义初始超参数\n",
    "params = {\n",
    "    'objective': 'binary:logistic',\n",
    "    'eval_metric': 'auc',\n",
    "    'eta': 0.1,\n",
    "    'max_depth': 6,\n",
    "    'subsample': 0.8,\n",
    "    'colsample_bytree': 0.8,\n",
    "    'seed': 42\n",
    "}\n",
    "\n",
    "# 设置验证集\n",
    "dtrain = xgb.DMatrix(X_train, label=y_train)\n",
    "dval = xgb.DMatrix(X_val, label=y_val)\n",
    "evallist = [(dtrain, 'train'), (dval, 'eval')]\n",
    "\n",
    "# 训练模型\n",
    "bst = xgb.train(params, dtrain, num_boost_round=1000, evals=evallist, early_stopping_rounds=50)\n",
    "\n",
    "# 评估模型性能\n",
    "y_pred = bst.predict(dval)\n",
    "auc_score = roc_auc_score(y_val, y_pred)\n",
    "print(f'验证集AUC得分: {auc_score}')"
   ]
  },
  {
   "cell_type": "code",
   "execution_count": 19,
   "metadata": {},
   "outputs": [
    {
     "name": "stdout",
     "output_type": "stream",
     "text": [
      "Fitting 3 folds for each of 5400 candidates, totalling 16200 fits\n",
      "最佳超参数: {'colsample_bytree': 0.5, 'eta': 0.1, 'max_depth': 3, 'min_child_weight': 2, 'subsample': 0.8}\n",
      "[0]\ttrain-auc:0.60504\teval-auc:0.60933\n",
      "[1]\ttrain-auc:0.60839\teval-auc:0.61060\n",
      "[2]\ttrain-auc:0.60861\teval-auc:0.61032\n",
      "[3]\ttrain-auc:0.61294\teval-auc:0.61347\n",
      "[4]\ttrain-auc:0.61187\teval-auc:0.61085\n",
      "[5]\ttrain-auc:0.61604\teval-auc:0.61624\n",
      "[6]\ttrain-auc:0.61690\teval-auc:0.61775\n",
      "[7]\ttrain-auc:0.61778\teval-auc:0.61856\n",
      "[8]\ttrain-auc:0.61831\teval-auc:0.61888\n",
      "[9]\ttrain-auc:0.61956\teval-auc:0.61948\n",
      "[10]\ttrain-auc:0.61929\teval-auc:0.61949\n",
      "[11]\ttrain-auc:0.61951\teval-auc:0.61985\n",
      "[12]\ttrain-auc:0.62050\teval-auc:0.62047\n",
      "[13]\ttrain-auc:0.62125\teval-auc:0.62129\n",
      "[14]\ttrain-auc:0.62104\teval-auc:0.62149\n",
      "[15]\ttrain-auc:0.62195\teval-auc:0.62221\n",
      "[16]\ttrain-auc:0.62208\teval-auc:0.62274\n",
      "[17]\ttrain-auc:0.62217\teval-auc:0.62250\n",
      "[18]\ttrain-auc:0.62280\teval-auc:0.62304\n",
      "[19]\ttrain-auc:0.62307\teval-auc:0.62321\n",
      "[20]\ttrain-auc:0.62318\teval-auc:0.62315\n",
      "[21]\ttrain-auc:0.62320\teval-auc:0.62313\n",
      "[22]\ttrain-auc:0.62335\teval-auc:0.62367\n",
      "[23]\ttrain-auc:0.62339\teval-auc:0.62386\n",
      "[24]\ttrain-auc:0.62435\teval-auc:0.62419\n",
      "[25]\ttrain-auc:0.62439\teval-auc:0.62469\n",
      "[26]\ttrain-auc:0.62480\teval-auc:0.62503\n",
      "[27]\ttrain-auc:0.62545\teval-auc:0.62562\n",
      "[28]\ttrain-auc:0.62595\teval-auc:0.62628\n",
      "[29]\ttrain-auc:0.62621\teval-auc:0.62645\n",
      "[30]\ttrain-auc:0.62684\teval-auc:0.62706\n",
      "[31]\ttrain-auc:0.62727\teval-auc:0.62734\n",
      "[32]\ttrain-auc:0.62770\teval-auc:0.62747\n",
      "[33]\ttrain-auc:0.62805\teval-auc:0.62779\n",
      "[34]\ttrain-auc:0.62873\teval-auc:0.62817\n",
      "[35]\ttrain-auc:0.62915\teval-auc:0.62883\n",
      "[36]\ttrain-auc:0.62952\teval-auc:0.62939\n",
      "[37]\ttrain-auc:0.63006\teval-auc:0.62956\n",
      "[38]\ttrain-auc:0.63044\teval-auc:0.62995\n",
      "[39]\ttrain-auc:0.63088\teval-auc:0.62996\n",
      "[40]\ttrain-auc:0.63129\teval-auc:0.63038\n",
      "[41]\ttrain-auc:0.63163\teval-auc:0.63044\n",
      "[42]\ttrain-auc:0.63186\teval-auc:0.63041\n",
      "[43]\ttrain-auc:0.63242\teval-auc:0.63059\n",
      "[44]\ttrain-auc:0.63265\teval-auc:0.63082\n",
      "[45]\ttrain-auc:0.63303\teval-auc:0.63097\n",
      "[46]\ttrain-auc:0.63337\teval-auc:0.63132\n",
      "[47]\ttrain-auc:0.63360\teval-auc:0.63136\n",
      "[48]\ttrain-auc:0.63382\teval-auc:0.63140\n",
      "[49]\ttrain-auc:0.63403\teval-auc:0.63146\n",
      "[50]\ttrain-auc:0.63424\teval-auc:0.63143\n",
      "[51]\ttrain-auc:0.63446\teval-auc:0.63144\n",
      "[52]\ttrain-auc:0.63478\teval-auc:0.63171\n",
      "[53]\ttrain-auc:0.63489\teval-auc:0.63175\n",
      "[54]\ttrain-auc:0.63518\teval-auc:0.63180\n",
      "[55]\ttrain-auc:0.63544\teval-auc:0.63200\n",
      "[56]\ttrain-auc:0.63556\teval-auc:0.63214\n",
      "[57]\ttrain-auc:0.63584\teval-auc:0.63196\n",
      "[58]\ttrain-auc:0.63604\teval-auc:0.63202\n",
      "[59]\ttrain-auc:0.63610\teval-auc:0.63212\n",
      "[60]\ttrain-auc:0.63612\teval-auc:0.63223\n",
      "[61]\ttrain-auc:0.63623\teval-auc:0.63243\n",
      "[62]\ttrain-auc:0.63626\teval-auc:0.63250\n",
      "[63]\ttrain-auc:0.63638\teval-auc:0.63260\n",
      "[64]\ttrain-auc:0.63657\teval-auc:0.63257\n",
      "[65]\ttrain-auc:0.63670\teval-auc:0.63256\n",
      "[66]\ttrain-auc:0.63690\teval-auc:0.63260\n",
      "[67]\ttrain-auc:0.63705\teval-auc:0.63272\n",
      "[68]\ttrain-auc:0.63714\teval-auc:0.63275\n",
      "[69]\ttrain-auc:0.63731\teval-auc:0.63290\n",
      "[70]\ttrain-auc:0.63748\teval-auc:0.63297\n",
      "[71]\ttrain-auc:0.63759\teval-auc:0.63291\n",
      "[72]\ttrain-auc:0.63770\teval-auc:0.63306\n",
      "[73]\ttrain-auc:0.63788\teval-auc:0.63314\n",
      "[74]\ttrain-auc:0.63799\teval-auc:0.63316\n",
      "[75]\ttrain-auc:0.63803\teval-auc:0.63309\n",
      "[76]\ttrain-auc:0.63827\teval-auc:0.63315\n",
      "[77]\ttrain-auc:0.63841\teval-auc:0.63332\n",
      "[78]\ttrain-auc:0.63845\teval-auc:0.63333\n",
      "[79]\ttrain-auc:0.63863\teval-auc:0.63340\n",
      "[80]\ttrain-auc:0.63896\teval-auc:0.63333\n",
      "[81]\ttrain-auc:0.63921\teval-auc:0.63313\n",
      "[82]\ttrain-auc:0.63941\teval-auc:0.63352\n",
      "[83]\ttrain-auc:0.63946\teval-auc:0.63362\n",
      "[84]\ttrain-auc:0.63955\teval-auc:0.63370\n",
      "[85]\ttrain-auc:0.63963\teval-auc:0.63381\n",
      "[86]\ttrain-auc:0.63981\teval-auc:0.63381\n",
      "[87]\ttrain-auc:0.63997\teval-auc:0.63382\n",
      "[88]\ttrain-auc:0.63997\teval-auc:0.63388\n",
      "[89]\ttrain-auc:0.64006\teval-auc:0.63396\n",
      "[90]\ttrain-auc:0.64014\teval-auc:0.63384\n",
      "[91]\ttrain-auc:0.64027\teval-auc:0.63367\n",
      "[92]\ttrain-auc:0.64032\teval-auc:0.63373\n",
      "[93]\ttrain-auc:0.64041\teval-auc:0.63377\n",
      "[94]\ttrain-auc:0.64050\teval-auc:0.63372\n",
      "[95]\ttrain-auc:0.64077\teval-auc:0.63355\n",
      "[96]\ttrain-auc:0.64091\teval-auc:0.63362\n",
      "[97]\ttrain-auc:0.64109\teval-auc:0.63358\n",
      "[98]\ttrain-auc:0.64128\teval-auc:0.63345\n",
      "[99]\ttrain-auc:0.64141\teval-auc:0.63341\n",
      "[100]\ttrain-auc:0.64144\teval-auc:0.63329\n",
      "[101]\ttrain-auc:0.64156\teval-auc:0.63336\n",
      "[102]\ttrain-auc:0.64164\teval-auc:0.63333\n",
      "[103]\ttrain-auc:0.64187\teval-auc:0.63326\n",
      "[104]\ttrain-auc:0.64197\teval-auc:0.63328\n",
      "[105]\ttrain-auc:0.64204\teval-auc:0.63325\n",
      "[106]\ttrain-auc:0.64221\teval-auc:0.63326\n",
      "[107]\ttrain-auc:0.64230\teval-auc:0.63334\n",
      "[108]\ttrain-auc:0.64234\teval-auc:0.63338\n",
      "[109]\ttrain-auc:0.64236\teval-auc:0.63338\n",
      "[110]\ttrain-auc:0.64241\teval-auc:0.63342\n",
      "[111]\ttrain-auc:0.64248\teval-auc:0.63341\n",
      "[112]\ttrain-auc:0.64257\teval-auc:0.63336\n",
      "[113]\ttrain-auc:0.64262\teval-auc:0.63336\n",
      "[114]\ttrain-auc:0.64263\teval-auc:0.63336\n",
      "[115]\ttrain-auc:0.64272\teval-auc:0.63325\n",
      "[116]\ttrain-auc:0.64292\teval-auc:0.63327\n",
      "[117]\ttrain-auc:0.64301\teval-auc:0.63328\n",
      "[118]\ttrain-auc:0.64305\teval-auc:0.63323\n",
      "[119]\ttrain-auc:0.64305\teval-auc:0.63324\n",
      "[120]\ttrain-auc:0.64316\teval-auc:0.63327\n",
      "[121]\ttrain-auc:0.64320\teval-auc:0.63323\n",
      "[122]\ttrain-auc:0.64327\teval-auc:0.63318\n",
      "[123]\ttrain-auc:0.64331\teval-auc:0.63324\n",
      "[124]\ttrain-auc:0.64347\teval-auc:0.63314\n",
      "[125]\ttrain-auc:0.64364\teval-auc:0.63295\n",
      "[126]\ttrain-auc:0.64366\teval-auc:0.63290\n",
      "[127]\ttrain-auc:0.64372\teval-auc:0.63290\n",
      "[128]\ttrain-auc:0.64389\teval-auc:0.63287\n",
      "[129]\ttrain-auc:0.64403\teval-auc:0.63297\n",
      "[130]\ttrain-auc:0.64416\teval-auc:0.63291\n",
      "[131]\ttrain-auc:0.64419\teval-auc:0.63293\n",
      "[132]\ttrain-auc:0.64434\teval-auc:0.63300\n",
      "[133]\ttrain-auc:0.64444\teval-auc:0.63292\n",
      "[134]\ttrain-auc:0.64451\teval-auc:0.63287\n",
      "[135]\ttrain-auc:0.64465\teval-auc:0.63292\n",
      "[136]\ttrain-auc:0.64475\teval-auc:0.63288\n",
      "[137]\ttrain-auc:0.64484\teval-auc:0.63285\n",
      "[138]\ttrain-auc:0.64497\teval-auc:0.63290\n",
      "调整后验证集AUC得分: 0.6329601333046229\n"
     ]
    }
   ],
   "source": [
    "# 调整超参数\n",
    "param_grid = {\n",
    "    'max_depth': [3, 4, 5, 6, 7, 8],\n",
    "    'min_child_weight': [1, 2, 3, 4, 5],\n",
    "    'subsample': [0.5, 0.6, 0.7, 0.8, 0.9, 1.0],\n",
    "    'colsample_bytree': [0.5, 0.6, 0.7, 0.8, 0.9, 1.0],\n",
    "    'eta': [0.01, 0.05, 0.1, 0.2, 0.3]\n",
    "}\n",
    "\n",
    "# 使用GridSearchCV进行超参数调优\n",
    "grid_search = GridSearchCV(estimator=xgb.XGBClassifier(**params), param_grid=param_grid, scoring='roc_auc', cv=3, verbose=1)\n",
    "grid_search.fit(X_train, y_train)\n",
    "\n",
    "# 输出最佳超参数\n",
    "print(f'最佳超参数: {grid_search.best_params_}')\n",
    "\n",
    "# 使用最佳超参数重新训练模型\n",
    "best_params = grid_search.best_params_\n",
    "params.update(best_params)\n",
    "dtrain = xgb.DMatrix(X_train, label=y_train)\n",
    "dval = xgb.DMatrix(X_val, label=y_val)\n",
    "evallist = [(dtrain, 'train'), (dval, 'eval')]\n",
    "bst = xgb.train(params, dtrain, num_boost_round=1000, evals=evallist, early_stopping_rounds=50)\n",
    "\n",
    "# 评估新的模型性能\n",
    "y_pred = bst.predict(dval)\n",
    "auc_score = roc_auc_score(y_val, y_pred)\n",
    "print(f'调整后验证集AUC得分: {auc_score}')"
   ]
  },
  {
   "cell_type": "markdown",
   "metadata": {},
   "source": [
    "# Step 6: 测试集预测与保存结果\n",
    "生成测试集预测并保存为指定的提交格式。"
   ]
  },
  {
   "cell_type": "code",
   "execution_count": 20,
   "metadata": {},
   "outputs": [
    {
     "name": "stdout",
     "output_type": "stream",
     "text": [
      "预测结果已保存至 prediction.csv\n"
     ]
    }
   ],
   "source": [
    "import xgboost as xgb\n",
    "\n",
    "# 预测测试集\n",
    "# 确保在创建DMatrix对象时，测试数据集中不包含多余的列\n",
    "dtest = xgb.DMatrix(test_data.drop(columns=['user_id', 'merchant_id', 'prob'], errors='ignore'))\n",
    "test_data['prob'] = model.predict(dtest)\n",
    "\n",
    "# 保存结果\n",
    "result = test_data[['user_id', 'merchant_id', 'prob']]\n",
    "result.to_csv('prediction.csv', index=False)\n",
    "print(\"预测结果已保存至 prediction.csv\")"
   ]
  }
 ],
 "metadata": {
  "kernelspec": {
   "display_name": "py38",
   "language": "python",
   "name": "py38"
  },
  "language_info": {
   "codemirror_mode": {
    "name": "ipython",
    "version": 3
   },
   "file_extension": ".py",
   "mimetype": "text/x-python",
   "name": "python",
   "nbconvert_exporter": "python",
   "pygments_lexer": "ipython3",
   "version": "3.8.19"
  }
 },
 "nbformat": 4,
 "nbformat_minor": 2
}
